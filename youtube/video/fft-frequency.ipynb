{
  "cells": [
    {
      "cell_type": "markdown",
      "metadata": {
        "id": "20dtxMl7TbDa"
      },
      "source": [
        "<a href=\"https://colab.research.google.com/github/jeffheaton/present/blob/master/youtube/video/fft-frequency.ipynb\" target=\"_parent\"><img src=\"https://colab.research.google.com/assets/colab-badge.svg\" alt=\"Open In Colab\"/></a>\n",
        "\n",
        "Copyright 2022 by [Jeff Heaton](https://www.heatonresearch.com/), released under [LGPLv3](https://www.gnu.org/licenses/lgpl-3.0.en.html)\n",
        "\n",
        "[YouTube video about this code](https://www.youtube.com/watch?v=rj9NOiFLxWA)"
      ]
    },
    {
      "cell_type": "code",
      "execution_count": 1,
      "metadata": {
        "colab": {
          "base_uri": "https://localhost:8080/"
        },
        "id": "jQI4U7A1h34o",
        "outputId": "e605ee8a-422f-4493-ed8b-c057e3cf96fc"
      },
      "outputs": [
        {
          "output_type": "stream",
          "name": "stdout",
          "text": [
            "Note: not using Google CoLab\n",
            "Collecting kaleido\n",
            "  Downloading kaleido-0.2.1-py2.py3-none-manylinux1_x86_64.whl.metadata (15 kB)\n",
            "Downloading kaleido-0.2.1-py2.py3-none-manylinux1_x86_64.whl (79.9 MB)\n",
            "\u001b[2K   \u001b[90m━━━━━━━━━━━━━━━━━━━━━━━━━━━━━━━━━━━━━━━━\u001b[0m \u001b[32m79.9/79.9 MB\u001b[0m \u001b[31m7.9 MB/s\u001b[0m eta \u001b[36m0:00:00\u001b[0m\n",
            "\u001b[?25hInstalling collected packages: kaleido\n",
            "Successfully installed kaleido-0.2.1\n"
          ]
        }
      ],
      "source": [
        "try:\n",
        "    from google.colab import drive\n",
        "    drive.mount('/content/drive', force_remount=True)\n",
        "    COLAB = True\n",
        "    print(\"Note: using Google CoLab\")\n",
        "except:\n",
        "    print(\"Note: not using Google CoLab\")\n",
        "    COLAB = False\n",
        "\n",
        "PATH = '/content/drive/MyDrive/projects/audio'\n",
        "\n",
        "!pip install -U kaleido\n",
        "\n",
        "# Configuration\n",
        "FPS = 30\n",
        "FFT_WINDOW_SECONDS = 0.25 # how many seconds of audio make up an FFT window\n",
        "\n",
        "# Note range to display\n",
        "FREQ_MIN = 10\n",
        "FREQ_MAX = 1000\n",
        "\n",
        "# Notes to display\n",
        "TOP_NOTES = 3\n",
        "\n",
        "# Names of the notes\n",
        "NOTE_NAMES = [\"C\", \"C#\", \"D\", \"D#\", \"E\", \"F\", \"F#\", \"G\", \"G#\", \"A\", \"A#\", \"B\"]\n",
        "\n",
        "# Output size. Generally use SCALE for higher res, unless you need a non-standard aspect ratio.\n",
        "RESOLUTION = (1920, 1080)\n",
        "SCALE = 2 # 0.5=QHD(960x540), 1=HD(1920x1080), 2=4K(3840x2160)"
      ]
    },
    {
      "cell_type": "code",
      "execution_count": 2,
      "metadata": {
        "colab": {
          "base_uri": "https://localhost:8080/"
        },
        "id": "9eOd8Tm-jIW5",
        "outputId": "14a9794c-de32-4fa8-ce6b-7eb6579ae3ff"
      },
      "outputs": [
        {
          "output_type": "stream",
          "name": "stdout",
          "text": [
            "--2024-11-07 20:10:49--  https://github.com/jeffheaton/present/raw/master/youtube/video/sample_audio/piano_c_major_scale.wav\n",
            "Resolving github.com (github.com)... 140.82.121.4\n",
            "Connecting to github.com (github.com)|140.82.121.4|:443... connected.\n",
            "HTTP request sent, awaiting response... 302 Found\n",
            "Location: https://raw.githubusercontent.com/jeffheaton/present/master/youtube/video/sample_audio/piano_c_major_scale.wav [following]\n",
            "--2024-11-07 20:10:51--  https://raw.githubusercontent.com/jeffheaton/present/master/youtube/video/sample_audio/piano_c_major_scale.wav\n",
            "Resolving raw.githubusercontent.com (raw.githubusercontent.com)... 185.199.108.133, 185.199.109.133, 185.199.110.133, ...\n",
            "Connecting to raw.githubusercontent.com (raw.githubusercontent.com)|185.199.108.133|:443... connected.\n",
            "HTTP request sent, awaiting response... 200 OK\n",
            "Length: 4921652 (4.7M) [audio/wav]\n",
            "Saving to: ‘piano_c_major_scale.wav’\n",
            "\n",
            "piano_c_major_scale 100%[===================>]   4.69M  --.-KB/s    in 0.04s   \n",
            "\n",
            "2024-11-07 20:10:52 (132 MB/s) - ‘piano_c_major_scale.wav’ saved [4921652/4921652]\n",
            "\n"
          ]
        },
        {
          "output_type": "stream",
          "name": "stderr",
          "text": [
            "<ipython-input-2-ef3511ea2073>:13: WavFileWarning: Chunk (non-data) not understood, skipping it.\n",
            "  fs, data = wavfile.read(os.path.join(PATH,AUDIO_FILE)) # load the data\n"
          ]
        }
      ],
      "source": [
        "import matplotlib.pyplot as plt\n",
        "from scipy.fftpack import fft\n",
        "from scipy.io import wavfile # get the api\n",
        "import os\n",
        "\n",
        "# Get a WAV file from GDrive, such as:\n",
        "# AUDIO_FILE = os.path.join(PATH,'short_popcorn.wav')\n",
        "\n",
        "# Or download my sample audio\n",
        "!wget https://github.com/jeffheaton/present/raw/master/youtube/video/sample_audio/piano_c_major_scale.wav\n",
        "AUDIO_FILE = \"/content/piano_c_major_scale.wav\"\n",
        "\n",
        "fs, data = wavfile.read(os.path.join(PATH,AUDIO_FILE)) # load the data\n",
        "audio = data.T[0] # this is a two channel soundtrack, get the first track\n",
        "FRAME_STEP = (fs / FPS) # audio samples per video frame\n",
        "FFT_WINDOW_SIZE = int(fs * FFT_WINDOW_SECONDS)\n",
        "AUDIO_LENGTH = len(audio)/fs"
      ]
    },
    {
      "cell_type": "markdown",
      "metadata": {
        "id": "gqxOflIuM_eT"
      },
      "source": [
        "Several utility functions."
      ]
    },
    {
      "cell_type": "code",
      "execution_count": 3,
      "metadata": {
        "id": "yg2kx9olG3ib"
      },
      "outputs": [],
      "source": [
        "import plotly.graph_objects as go\n",
        "\n",
        "def plot_fft(p, xf, fs, notes, dimensions=(960,540)):\n",
        "  layout = go.Layout(\n",
        "      title=\"frequency spectrum\",\n",
        "      autosize=False,\n",
        "      width=dimensions[0],\n",
        "      height=dimensions[1],\n",
        "      xaxis_title=\"Frequency (note)\",\n",
        "      yaxis_title=\"Magnitude\",\n",
        "      font={'size' : 24}\n",
        "  )\n",
        "\n",
        "  fig = go.Figure(layout=layout,\n",
        "                  layout_xaxis_range=[FREQ_MIN,FREQ_MAX],\n",
        "                  layout_yaxis_range=[0,1]\n",
        "                  )\n",
        "\n",
        "  fig.add_trace(go.Scatter(\n",
        "      x = xf,\n",
        "      y = p))\n",
        "\n",
        "  for note in notes:\n",
        "    fig.add_annotation(x=note[0]+10, y=note[2],\n",
        "            text=note[1],\n",
        "            font = {'size' : 48},\n",
        "            showarrow=False)\n",
        "  return fig\n",
        "\n",
        "def extract_sample(audio, frame_number):\n",
        "  end = frame_number * FRAME_OFFSET\n",
        "  begin = int(end - FFT_WINDOW_SIZE)\n",
        "\n",
        "  if end == 0:\n",
        "    # We have no audio yet, return all zeros (very beginning)\n",
        "    return np.zeros((np.abs(begin)),dtype=float)\n",
        "  elif begin<0:\n",
        "    # We have some audio, padd with zeros\n",
        "    return np.concatenate([np.zeros((np.abs(begin)),dtype=float),audio[0:end]])\n",
        "  else:\n",
        "    # Usually this happens, return the next sample\n",
        "    return audio[begin:end]\n",
        "\n",
        "def find_top_notes(fft,num):\n",
        "  if np.max(fft.real)<0.001:\n",
        "    return []\n",
        "\n",
        "  lst = [x for x in enumerate(fft.real)]\n",
        "  lst = sorted(lst, key=lambda x: x[1],reverse=True)\n",
        "\n",
        "  idx = 0\n",
        "  found = []\n",
        "  found_note = set()\n",
        "  while( (idx<len(lst)) and (len(found)<num) ):\n",
        "    f = xf[lst[idx][0]]\n",
        "    y = lst[idx][1]\n",
        "    n = freq_to_number(f)\n",
        "    n0 = int(round(n))\n",
        "    name = note_name(n0)\n",
        "\n",
        "    if name not in found_note:\n",
        "      found_note.add(name)\n",
        "      s = [f,note_name(n0),y]\n",
        "      found.append(s)\n",
        "    idx += 1\n",
        "\n",
        "  return found"
      ]
    },
    {
      "cell_type": "markdown",
      "metadata": {
        "id": "t98k4AMRHy-o"
      },
      "source": [
        "Run the FFT on individual samples of the audio and generate video frames of the frequency chart."
      ]
    },
    {
      "cell_type": "code",
      "execution_count": 11,
      "metadata": {
        "colab": {
          "base_uri": "https://localhost:8080/"
        },
        "id": "i7OinuERiRak",
        "outputId": "2442c359-ae94-47e1-ee12-dc2ab7ff5689"
      },
      "outputs": [
        {
          "output_type": "stream",
          "name": "stdout",
          "text": [
            "Max amplitude: 1035.1945494237968\n"
          ]
        },
        {
          "output_type": "stream",
          "name": "stderr",
          "text": [
            "  0%|          | 2/418 [00:01<04:29,  1.55it/s]"
          ]
        },
        {
          "output_type": "stream",
          "name": "stdout",
          "text": [
            "New highest amplitude note: A0 at 0.07 seconds\n"
          ]
        },
        {
          "output_type": "stream",
          "name": "stderr",
          "text": [
            "\r  1%|          | 3/418 [00:01<04:18,  1.60it/s]"
          ]
        },
        {
          "output_type": "stream",
          "name": "stdout",
          "text": [
            "New highest amplitude note: G0 at 0.10 seconds\n"
          ]
        },
        {
          "output_type": "stream",
          "name": "stderr",
          "text": [
            "\r  1%|          | 4/418 [00:02<03:43,  1.85it/s]"
          ]
        },
        {
          "output_type": "stream",
          "name": "stdout",
          "text": [
            "New highest amplitude note: D#0 at 0.13 seconds\n"
          ]
        },
        {
          "output_type": "stream",
          "name": "stderr",
          "text": [
            "\r  1%|          | 5/418 [00:02<03:21,  2.05it/s]"
          ]
        },
        {
          "output_type": "stream",
          "name": "stdout",
          "text": [
            "New highest amplitude note: C4 at 0.17 seconds\n"
          ]
        },
        {
          "output_type": "stream",
          "name": "stderr",
          "text": [
            "  5%|▌         | 22/418 [00:09<02:23,  2.77it/s]"
          ]
        },
        {
          "output_type": "stream",
          "name": "stdout",
          "text": [
            "New highest amplitude note: C5 at 0.73 seconds\n"
          ]
        },
        {
          "output_type": "stream",
          "name": "stderr",
          "text": [
            "  7%|▋         | 30/418 [00:11<02:16,  2.85it/s]"
          ]
        },
        {
          "output_type": "stream",
          "name": "stdout",
          "text": [
            "New highest amplitude note: G5 at 1.00 seconds\n"
          ]
        },
        {
          "output_type": "stream",
          "name": "stderr",
          "text": [
            "\r  7%|▋         | 31/418 [00:12<02:41,  2.40it/s]"
          ]
        },
        {
          "output_type": "stream",
          "name": "stdout",
          "text": [
            "New highest amplitude note: D4 at 1.03 seconds\n"
          ]
        },
        {
          "output_type": "stream",
          "name": "stderr",
          "text": [
            " 14%|█▍        | 58/418 [00:24<02:10,  2.77it/s]"
          ]
        },
        {
          "output_type": "stream",
          "name": "stdout",
          "text": [
            "New highest amplitude note: F4 at 1.93 seconds\n"
          ]
        },
        {
          "output_type": "stream",
          "name": "stderr",
          "text": [
            "\r 14%|█▍        | 59/418 [00:25<02:11,  2.74it/s]"
          ]
        },
        {
          "output_type": "stream",
          "name": "stdout",
          "text": [
            "New highest amplitude note: E5 at 1.97 seconds\n"
          ]
        },
        {
          "output_type": "stream",
          "name": "stderr",
          "text": [
            " 19%|█▉        | 80/418 [00:34<02:22,  2.37it/s]"
          ]
        },
        {
          "output_type": "stream",
          "name": "stdout",
          "text": [
            "New highest amplitude note: D#0 at 2.67 seconds\n"
          ]
        },
        {
          "output_type": "stream",
          "name": "stderr",
          "text": [
            " 20%|██        | 84/418 [00:36<02:08,  2.59it/s]"
          ]
        },
        {
          "output_type": "stream",
          "name": "stdout",
          "text": [
            "New highest amplitude note: F4 at 2.80 seconds\n"
          ]
        },
        {
          "output_type": "stream",
          "name": "stderr",
          "text": [
            " 26%|██▋       | 110/418 [00:47<02:51,  1.80it/s]"
          ]
        },
        {
          "output_type": "stream",
          "name": "stdout",
          "text": [
            "New highest amplitude note: G#4 at 3.67 seconds\n"
          ]
        },
        {
          "output_type": "stream",
          "name": "stderr",
          "text": [
            "\r 27%|██▋       | 111/418 [00:47<02:51,  1.80it/s]"
          ]
        },
        {
          "output_type": "stream",
          "name": "stdout",
          "text": [
            "New highest amplitude note: G5 at 3.70 seconds\n"
          ]
        },
        {
          "output_type": "stream",
          "name": "stderr",
          "text": [
            " 32%|███▏      | 135/418 [00:57<01:41,  2.79it/s]"
          ]
        },
        {
          "output_type": "stream",
          "name": "stdout",
          "text": [
            "New highest amplitude note: G4 at 4.50 seconds\n"
          ]
        },
        {
          "output_type": "stream",
          "name": "stderr",
          "text": [
            "\r 33%|███▎      | 136/418 [00:57<01:40,  2.80it/s]"
          ]
        },
        {
          "output_type": "stream",
          "name": "stdout",
          "text": [
            "New highest amplitude note: A4 at 4.53 seconds\n"
          ]
        },
        {
          "output_type": "stream",
          "name": "stderr",
          "text": [
            " 38%|███▊      | 158/418 [01:07<01:36,  2.70it/s]"
          ]
        },
        {
          "output_type": "stream",
          "name": "stdout",
          "text": [
            "New highest amplitude note: A1 at 5.27 seconds\n"
          ]
        },
        {
          "output_type": "stream",
          "name": "stderr",
          "text": [
            " 39%|███▊      | 161/418 [01:08<01:59,  2.15it/s]"
          ]
        },
        {
          "output_type": "stream",
          "name": "stdout",
          "text": [
            "New highest amplitude note: D#0 at 5.37 seconds\n"
          ]
        },
        {
          "output_type": "stream",
          "name": "stderr",
          "text": [
            "\r 39%|███▉      | 162/418 [01:09<01:51,  2.30it/s]"
          ]
        },
        {
          "output_type": "stream",
          "name": "stdout",
          "text": [
            "New highest amplitude note: B4 at 5.40 seconds\n"
          ]
        },
        {
          "output_type": "stream",
          "name": "stderr",
          "text": [
            " 44%|████▍     | 184/418 [01:18<02:06,  1.85it/s]"
          ]
        },
        {
          "output_type": "stream",
          "name": "stdout",
          "text": [
            "New highest amplitude note: D#0 at 6.13 seconds\n"
          ]
        },
        {
          "output_type": "stream",
          "name": "stderr",
          "text": [
            " 45%|████▍     | 188/418 [01:20<02:02,  1.87it/s]"
          ]
        },
        {
          "output_type": "stream",
          "name": "stdout",
          "text": [
            "New highest amplitude note: A1 at 6.27 seconds\n"
          ]
        },
        {
          "output_type": "stream",
          "name": "stderr",
          "text": [
            " 45%|████▌     | 190/418 [01:21<01:40,  2.27it/s]"
          ]
        },
        {
          "output_type": "stream",
          "name": "stdout",
          "text": [
            "New highest amplitude note: B4 at 6.33 seconds\n"
          ]
        },
        {
          "output_type": "stream",
          "name": "stderr",
          "text": [
            " 46%|████▌     | 192/418 [01:22<01:34,  2.40it/s]"
          ]
        },
        {
          "output_type": "stream",
          "name": "stdout",
          "text": [
            "New highest amplitude note: C5 at 6.40 seconds\n"
          ]
        },
        {
          "output_type": "stream",
          "name": "stderr",
          "text": [
            " 52%|█████▏    | 218/418 [01:32<01:34,  2.12it/s]"
          ]
        },
        {
          "output_type": "stream",
          "name": "stdout",
          "text": [
            "New highest amplitude note: B4 at 7.27 seconds\n"
          ]
        },
        {
          "output_type": "stream",
          "name": "stderr",
          "text": [
            " 57%|█████▋    | 239/418 [01:41<01:04,  2.77it/s]"
          ]
        },
        {
          "output_type": "stream",
          "name": "stdout",
          "text": [
            "New highest amplitude note: D#0 at 7.97 seconds\n"
          ]
        },
        {
          "output_type": "stream",
          "name": "stderr",
          "text": [
            " 58%|█████▊    | 242/418 [01:42<01:02,  2.80it/s]"
          ]
        },
        {
          "output_type": "stream",
          "name": "stdout",
          "text": [
            "New highest amplitude note: A1 at 8.07 seconds\n"
          ]
        },
        {
          "output_type": "stream",
          "name": "stderr",
          "text": [
            "\r 58%|█████▊    | 243/418 [01:42<01:03,  2.77it/s]"
          ]
        },
        {
          "output_type": "stream",
          "name": "stdout",
          "text": [
            "New highest amplitude note: D#0 at 8.10 seconds\n"
          ]
        },
        {
          "output_type": "stream",
          "name": "stderr",
          "text": [
            " 59%|█████▊    | 245/418 [01:43<01:01,  2.82it/s]"
          ]
        },
        {
          "output_type": "stream",
          "name": "stdout",
          "text": [
            "New highest amplitude note: A4 at 8.17 seconds\n"
          ]
        },
        {
          "output_type": "stream",
          "name": "stderr",
          "text": [
            " 64%|██████▎   | 266/418 [01:53<01:08,  2.22it/s]"
          ]
        },
        {
          "output_type": "stream",
          "name": "stdout",
          "text": [
            "New highest amplitude note: D#0 at 8.87 seconds\n"
          ]
        },
        {
          "output_type": "stream",
          "name": "stderr",
          "text": [
            " 64%|██████▍   | 268/418 [01:54<01:00,  2.48it/s]"
          ]
        },
        {
          "output_type": "stream",
          "name": "stdout",
          "text": [
            "New highest amplitude note: B1 at 8.93 seconds\n"
          ]
        },
        {
          "output_type": "stream",
          "name": "stderr",
          "text": [
            " 65%|██████▍   | 271/418 [01:55<00:55,  2.65it/s]"
          ]
        },
        {
          "output_type": "stream",
          "name": "stdout",
          "text": [
            "New highest amplitude note: G#4 at 9.03 seconds\n"
          ]
        },
        {
          "output_type": "stream",
          "name": "stderr",
          "text": [
            " 65%|██████▌   | 273/418 [01:55<00:53,  2.70it/s]"
          ]
        },
        {
          "output_type": "stream",
          "name": "stdout",
          "text": [
            "New highest amplitude note: G5 at 9.10 seconds\n"
          ]
        },
        {
          "output_type": "stream",
          "name": "stderr",
          "text": [
            " 71%|███████   | 296/418 [02:05<01:03,  1.92it/s]"
          ]
        },
        {
          "output_type": "stream",
          "name": "stdout",
          "text": [
            "New highest amplitude note: G4 at 9.87 seconds\n"
          ]
        },
        {
          "output_type": "stream",
          "name": "stderr",
          "text": [
            " 71%|███████▏  | 298/418 [02:06<01:03,  1.88it/s]"
          ]
        },
        {
          "output_type": "stream",
          "name": "stdout",
          "text": [
            "New highest amplitude note: F4 at 9.93 seconds\n"
          ]
        },
        {
          "output_type": "stream",
          "name": "stderr",
          "text": [
            " 78%|███████▊  | 326/418 [02:17<00:33,  2.78it/s]"
          ]
        },
        {
          "output_type": "stream",
          "name": "stdout",
          "text": [
            "New highest amplitude note: E5 at 10.87 seconds\n"
          ]
        },
        {
          "output_type": "stream",
          "name": "stderr",
          "text": [
            " 83%|████████▎ | 349/418 [02:28<00:25,  2.69it/s]"
          ]
        },
        {
          "output_type": "stream",
          "name": "stdout",
          "text": [
            "New highest amplitude note: D#0 at 11.63 seconds\n"
          ]
        },
        {
          "output_type": "stream",
          "name": "stderr",
          "text": [
            "\r 84%|████████▎ | 350/418 [02:28<00:25,  2.72it/s]"
          ]
        },
        {
          "output_type": "stream",
          "name": "stdout",
          "text": [
            "New highest amplitude note: A1 at 11.67 seconds\n"
          ]
        },
        {
          "output_type": "stream",
          "name": "stderr",
          "text": [
            " 84%|████████▍ | 352/418 [02:29<00:24,  2.75it/s]"
          ]
        },
        {
          "output_type": "stream",
          "name": "stdout",
          "text": [
            "New highest amplitude note: D4 at 11.73 seconds\n"
          ]
        },
        {
          "output_type": "stream",
          "name": "stderr",
          "text": [
            " 91%|█████████ | 381/418 [02:41<00:16,  2.30it/s]"
          ]
        },
        {
          "output_type": "stream",
          "name": "stdout",
          "text": [
            "New highest amplitude note: C4 at 12.70 seconds\n"
          ]
        },
        {
          "output_type": "stream",
          "name": "stderr",
          "text": [
            " 95%|█████████▍| 397/418 [02:47<00:07,  2.76it/s]"
          ]
        },
        {
          "output_type": "stream",
          "name": "stdout",
          "text": [
            "New highest amplitude note: C5 at 13.23 seconds\n"
          ]
        },
        {
          "output_type": "stream",
          "name": "stderr",
          "text": [
            " 97%|█████████▋| 406/418 [02:50<00:04,  2.50it/s]"
          ]
        },
        {
          "output_type": "stream",
          "name": "stdout",
          "text": [
            "New highest amplitude note: G5 at 13.53 seconds\n"
          ]
        },
        {
          "output_type": "stream",
          "name": "stderr",
          "text": [
            " 98%|█████████▊| 409/418 [02:52<00:04,  1.91it/s]"
          ]
        },
        {
          "output_type": "stream",
          "name": "stdout",
          "text": [
            "New highest amplitude note: C5 at 13.63 seconds\n"
          ]
        },
        {
          "output_type": "stream",
          "name": "stderr",
          "text": [
            "100%|█████████▉| 416/418 [02:56<00:01,  1.86it/s]"
          ]
        },
        {
          "output_type": "stream",
          "name": "stdout",
          "text": [
            "New highest amplitude note: G1 at 13.87 seconds\n"
          ]
        },
        {
          "output_type": "stream",
          "name": "stderr",
          "text": [
            "\r100%|█████████▉| 417/418 [02:56<00:00,  2.00it/s]"
          ]
        },
        {
          "output_type": "stream",
          "name": "stdout",
          "text": [
            "New highest amplitude note: D#0 at 13.90 seconds\n"
          ]
        },
        {
          "output_type": "stream",
          "name": "stderr",
          "text": [
            "100%|██████████| 418/418 [02:57<00:00,  2.36it/s]\n"
          ]
        }
      ],
      "source": [
        "import numpy as np\n",
        "import tqdm\n",
        "\n",
        "!rm /content/*.png\n",
        "\n",
        "# See https://newt.phys.unsw.edu.au/jw/notes.html\n",
        "def freq_to_number(f): return 69 + 12*np.log2(f/440.0)\n",
        "def number_to_freq(n): return 440 * 2.0**((n-69)/12.0)\n",
        "def note_name(n): return NOTE_NAMES[n % 12] + str(int(n/12 - 1))\n",
        "\n",
        "# Hanning window function\n",
        "window = 0.5 * (1 - np.cos(np.linspace(0, 2*np.pi, FFT_WINDOW_SIZE, False)))\n",
        "\n",
        "xf = np.fft.rfftfreq(FFT_WINDOW_SIZE, 1/fs)\n",
        "FRAME_COUNT = int(AUDIO_LENGTH*FPS)\n",
        "FRAME_OFFSET = int(len(audio)/FRAME_COUNT)\n",
        "\n",
        "# Pass 1, find out the maximum amplitude so we can scale.\n",
        "mx = 0\n",
        "for frame_number in range(FRAME_COUNT):\n",
        "  sample = extract_sample(audio, frame_number)\n",
        "\n",
        "  fft = np.fft.rfft(sample * window)\n",
        "  fft = np.abs(fft).real\n",
        "  mx = max(np.max(fft),mx)\n",
        "\n",
        "print(f\"Max amplitude: {mx}\")\n",
        "\n",
        "last_note = None\n",
        "\n",
        "# Pass 2, produce the animation\n",
        "for frame_number in tqdm.tqdm(range(FRAME_COUNT)):\n",
        "    sample = extract_sample(audio, frame_number)\n",
        "    fft = np.fft.rfft(sample * window)\n",
        "    fft = np.abs(fft) / mx\n",
        "\n",
        "    # Find the top note for the current frame\n",
        "    s = find_top_notes(fft, TOP_NOTES)\n",
        "\n",
        "    if s:\n",
        "        # Sort notes by amplitude and select the one with the highest amplitude\n",
        "        highest_amplitude_note = max(s, key=lambda x: x[2])\n",
        "        current_note = highest_amplitude_note[1]  # Get the name of the note with the highest amplitude\n",
        "\n",
        "        # Print only if the current note is different from the last one\n",
        "        if current_note != last_note:\n",
        "            timestamp = frame_number / FPS  # Calculate timestamp\n",
        "            print(f\"New highest amplitude note: {current_note} at {timestamp:.2f} seconds\")\n",
        "            last_note = current_note  # Update last printed note\n",
        "\n",
        "    fig = plot_fft(fft.real,xf,fs,s,RESOLUTION)\n",
        "    fig.write_image(f\"/content/frame{frame_number}.png\",scale=2)\n"
      ]
    },
    {
      "cell_type": "markdown",
      "metadata": {
        "id": "1vo01yEzHeSu"
      },
      "source": [
        "Use [ffmpeg](https://ffmpeg.org/) to combine the input audio WAV and the individual frame images into a MP4 video."
      ]
    },
    {
      "cell_type": "code",
      "execution_count": 5,
      "metadata": {
        "colab": {
          "base_uri": "https://localhost:8080/"
        },
        "id": "LzPw9WT-Lfmy",
        "outputId": "44857ba0-e2a8-4578-ac72-0c14480c38fe"
      },
      "outputs": [
        {
          "output_type": "stream",
          "name": "stdout",
          "text": [
            "ffmpeg version 4.4.2-0ubuntu0.22.04.1 Copyright (c) 2000-2021 the FFmpeg developers\n",
            "  built with gcc 11 (Ubuntu 11.2.0-19ubuntu1)\n",
            "  configuration: --prefix=/usr --extra-version=0ubuntu0.22.04.1 --toolchain=hardened --libdir=/usr/lib/x86_64-linux-gnu --incdir=/usr/include/x86_64-linux-gnu --arch=amd64 --enable-gpl --disable-stripping --enable-gnutls --enable-ladspa --enable-libaom --enable-libass --enable-libbluray --enable-libbs2b --enable-libcaca --enable-libcdio --enable-libcodec2 --enable-libdav1d --enable-libflite --enable-libfontconfig --enable-libfreetype --enable-libfribidi --enable-libgme --enable-libgsm --enable-libjack --enable-libmp3lame --enable-libmysofa --enable-libopenjpeg --enable-libopenmpt --enable-libopus --enable-libpulse --enable-librabbitmq --enable-librubberband --enable-libshine --enable-libsnappy --enable-libsoxr --enable-libspeex --enable-libsrt --enable-libssh --enable-libtheora --enable-libtwolame --enable-libvidstab --enable-libvorbis --enable-libvpx --enable-libwebp --enable-libx265 --enable-libxml2 --enable-libxvid --enable-libzimg --enable-libzmq --enable-libzvbi --enable-lv2 --enable-omx --enable-openal --enable-opencl --enable-opengl --enable-sdl2 --enable-pocketsphinx --enable-librsvg --enable-libmfx --enable-libdc1394 --enable-libdrm --enable-libiec61883 --enable-chromaprint --enable-frei0r --enable-libx264 --enable-shared\n",
            "  libavutil      56. 70.100 / 56. 70.100\n",
            "  libavcodec     58.134.100 / 58.134.100\n",
            "  libavformat    58. 76.100 / 58. 76.100\n",
            "  libavdevice    58. 13.100 / 58. 13.100\n",
            "  libavfilter     7.110.100 /  7.110.100\n",
            "  libswscale      5.  9.100 /  5.  9.100\n",
            "  libswresample   3.  9.100 /  3.  9.100\n",
            "  libpostproc    55.  9.100 / 55.  9.100\n",
            "Input #0, image2, from 'frame%d.png':\n",
            "  Duration: 00:00:13.93, start: 0.000000, bitrate: N/A\n",
            "  Stream #0:0: Video: png, rgba(pc), 3840x2160, 30 fps, 30 tbr, 30 tbn, 30 tbc\n",
            "\u001b[0;33mGuessed Channel Layout for Input Stream #1.0 : stereo\n",
            "\u001b[0mInput #1, wav, from '/content/piano_c_major_scale.wav':\n",
            "  Metadata:\n",
            "    date            : 2022-11-26T04:54:57Z\n",
            "  Duration: 00:00:13.93, bitrate: 2825 kb/s\n",
            "  Stream #1:0: Audio: pcm_f32le ([3][0][0][0] / 0x0003), 44100 Hz, stereo, flt, 2822 kb/s\n",
            "Stream mapping:\n",
            "  Stream #0:0 -> #0:0 (png (native) -> h264 (libx264))\n",
            "  Stream #1:0 -> #0:1 (pcm_f32le (native) -> aac (native))\n",
            "Press [q] to stop, [?] for help\n",
            "\u001b[0;35m[image2 @ 0x576521cf21c0] \u001b[0m\u001b[0;33mThread message queue blocking; consider raising the thread_queue_size option (current value: 8)\n",
            "\u001b[0m\u001b[1;36m[libx264 @ 0x576521d43240] \u001b[0musing cpu capabilities: MMX2 SSE2Fast SSSE3 SSE4.2 AVX FMA3 BMI2 AVX2\n",
            "\u001b[1;36m[libx264 @ 0x576521d43240] \u001b[0mprofile High, level 5.1, 4:2:0, 8-bit\n",
            "\u001b[1;36m[libx264 @ 0x576521d43240] \u001b[0m264 - core 163 r3060 5db6aa6 - H.264/MPEG-4 AVC codec - Copyleft 2003-2021 - http://www.videolan.org/x264.html - options: cabac=1 ref=3 deblock=1:0:0 analyse=0x3:0x113 me=hex subme=7 psy=1 psy_rd=1.00:0.00 mixed_ref=1 me_range=16 chroma_me=1 trellis=1 8x8dct=1 cqm=0 deadzone=21,11 fast_pskip=1 chroma_qp_offset=-2 threads=3 lookahead_threads=1 sliced_threads=0 nr=0 decimate=1 interlaced=0 bluray_compat=0 constrained_intra=0 bframes=3 b_pyramid=2 b_adapt=1 b_bias=0 direct=1 weightb=1 open_gop=0 weightp=2 keyint=250 keyint_min=25 scenecut=40 intra_refresh=0 rc_lookahead=40 rc=crf mbtree=1 crf=23.0 qcomp=0.60 qpmin=0 qpmax=69 qpstep=4 ip_ratio=1.40 aq=1:1.00\n",
            "Output #0, mp4, to 'movie.mp4':\n",
            "  Metadata:\n",
            "    encoder         : Lavf58.76.100\n",
            "  Stream #0:0: Video: h264 (avc1 / 0x31637661), yuv420p(tv, progressive), 3840x2160, q=2-31, 30 fps, 15360 tbn\n",
            "    Metadata:\n",
            "      encoder         : Lavc58.134.100 libx264\n",
            "    Side data:\n",
            "      cpb: bitrate max/min/avg: 0/0/0 buffer size: 0 vbv_delay: N/A\n",
            "  Stream #0:1: Audio: aac (LC) (mp4a / 0x6134706D), 44100 Hz, stereo, fltp, 128 kb/s\n",
            "    Metadata:\n",
            "      encoder         : Lavc58.134.100 aac\n",
            "frame=  418 fps=4.3 q=-1.0 Lsize=    1619kB time=00:00:13.93 bitrate= 951.9kbits/s speed=0.143x    \n",
            "video:1385kB audio:218kB subtitle:0kB other streams:0kB global headers:0kB muxing overhead: 0.997816%\n",
            "\u001b[1;36m[libx264 @ 0x576521d43240] \u001b[0mframe I:2     Avg QP: 8.59  size: 37824\n",
            "\u001b[1;36m[libx264 @ 0x576521d43240] \u001b[0mframe P:128   Avg QP:15.24  size:  4782\n",
            "\u001b[1;36m[libx264 @ 0x576521d43240] \u001b[0mframe B:288   Avg QP:17.16  size:  2532\n",
            "\u001b[1;36m[libx264 @ 0x576521d43240] \u001b[0mconsecutive B-frames:  5.5%  4.8%  9.3% 80.4%\n",
            "\u001b[1;36m[libx264 @ 0x576521d43240] \u001b[0mmb I  I16..4: 94.4%  3.3%  2.2%\n",
            "\u001b[1;36m[libx264 @ 0x576521d43240] \u001b[0mmb P  I16..4:  0.4%  0.3%  0.3%  P16..4:  0.5%  0.2%  0.1%  0.0%  0.0%    skip:98.1%\n",
            "\u001b[1;36m[libx264 @ 0x576521d43240] \u001b[0mmb B  I16..4:  0.1%  0.0%  0.1%  B16..8:  1.1%  0.3%  0.1%  direct: 0.0%  skip:98.2%  L0:50.3% L1:44.5% BI: 5.1%\n",
            "\u001b[1;36m[libx264 @ 0x576521d43240] \u001b[0m8x8 transform intra:14.2% inter:44.6%\n",
            "\u001b[1;36m[libx264 @ 0x576521d43240] \u001b[0mcoded y,uvDC,uvAC intra: 12.0% 20.9% 17.5% inter: 0.1% 0.1% 0.1%\n",
            "\u001b[1;36m[libx264 @ 0x576521d43240] \u001b[0mi16 v,h,dc,p: 71% 29%  1%  0%\n",
            "\u001b[1;36m[libx264 @ 0x576521d43240] \u001b[0mi8 v,h,dc,ddl,ddr,vr,hd,vl,hu: 15% 10% 72%  1%  0%  1%  1%  0%  1%\n",
            "\u001b[1;36m[libx264 @ 0x576521d43240] \u001b[0mi4 v,h,dc,ddl,ddr,vr,hd,vl,hu: 28% 24% 30%  3%  2%  3%  4%  3%  3%\n",
            "\u001b[1;36m[libx264 @ 0x576521d43240] \u001b[0mi8c dc,h,v,p: 61% 28% 10%  0%\n",
            "\u001b[1;36m[libx264 @ 0x576521d43240] \u001b[0mWeighted P-Frames: Y:0.0% UV:0.0%\n",
            "\u001b[1;36m[libx264 @ 0x576521d43240] \u001b[0mref P L0: 63.5%  3.4% 19.8% 13.2%\n",
            "\u001b[1;36m[libx264 @ 0x576521d43240] \u001b[0mref B L0: 77.1% 17.8%  5.1%\n",
            "\u001b[1;36m[libx264 @ 0x576521d43240] \u001b[0mref B L1: 94.2%  5.8%\n",
            "\u001b[1;36m[libx264 @ 0x576521d43240] \u001b[0mkb/s:813.64\n",
            "\u001b[1;36m[aac @ 0x576521d44c80] \u001b[0mQavg: 261.071\n"
          ]
        }
      ],
      "source": [
        "!ffmpeg -y -r {FPS} -f image2 -s 1920x1080 -i frame%d.png -i {AUDIO_FILE} -c:v libx264 -pix_fmt yuv420p movie.mp4"
      ]
    },
    {
      "cell_type": "markdown",
      "metadata": {
        "id": "YBbcVFuhHZgP"
      },
      "source": [
        "Download the generated movie."
      ]
    },
    {
      "cell_type": "code",
      "execution_count": null,
      "metadata": {
        "colab": {
          "base_uri": "https://localhost:8080/",
          "height": 17
        },
        "id": "6ohuRzpfLkYg",
        "outputId": "7365d502-1b41-4fc7-c790-116ddcbe3b4e"
      },
      "outputs": [
        {
          "data": {
            "application/javascript": [
              "\n",
              "    async function download(id, filename, size) {\n",
              "      if (!google.colab.kernel.accessAllowed) {\n",
              "        return;\n",
              "      }\n",
              "      const div = document.createElement('div');\n",
              "      const label = document.createElement('label');\n",
              "      label.textContent = `Downloading \"${filename}\": `;\n",
              "      div.appendChild(label);\n",
              "      const progress = document.createElement('progress');\n",
              "      progress.max = size;\n",
              "      div.appendChild(progress);\n",
              "      document.body.appendChild(div);\n",
              "\n",
              "      const buffers = [];\n",
              "      let downloaded = 0;\n",
              "\n",
              "      const channel = await google.colab.kernel.comms.open(id);\n",
              "      // Send a message to notify the kernel that we're ready.\n",
              "      channel.send({})\n",
              "\n",
              "      for await (const message of channel.messages) {\n",
              "        // Send a message to notify the kernel that we're ready.\n",
              "        channel.send({})\n",
              "        if (message.buffers) {\n",
              "          for (const buffer of message.buffers) {\n",
              "            buffers.push(buffer);\n",
              "            downloaded += buffer.byteLength;\n",
              "            progress.value = downloaded;\n",
              "          }\n",
              "        }\n",
              "      }\n",
              "      const blob = new Blob(buffers, {type: 'application/binary'});\n",
              "      const a = document.createElement('a');\n",
              "      a.href = window.URL.createObjectURL(blob);\n",
              "      a.download = filename;\n",
              "      div.appendChild(a);\n",
              "      a.click();\n",
              "      div.remove();\n",
              "    }\n",
              "  "
            ],
            "text/plain": [
              "<IPython.core.display.Javascript object>"
            ]
          },
          "metadata": {},
          "output_type": "display_data"
        },
        {
          "data": {
            "application/javascript": [
              "download(\"download_db17c3b1-26ab-4472-ad97-3a7ef4aeeb52\", \"test.mp4\", 1656878)"
            ],
            "text/plain": [
              "<IPython.core.display.Javascript object>"
            ]
          },
          "metadata": {},
          "output_type": "display_data"
        }
      ],
      "source": [
        "from google.colab import files\n",
        "files.download('movie.mp4')"
      ]
    }
  ],
  "metadata": {
    "colab": {
      "provenance": []
    },
    "kernelspec": {
      "display_name": "Python 3 (ipykernel)",
      "language": "python",
      "name": "python3"
    },
    "language_info": {
      "codemirror_mode": {
        "name": "ipython",
        "version": 3
      },
      "file_extension": ".py",
      "mimetype": "text/x-python",
      "name": "python",
      "nbconvert_exporter": "python",
      "pygments_lexer": "ipython3",
      "version": "3.9.12"
    }
  },
  "nbformat": 4,
  "nbformat_minor": 0
}